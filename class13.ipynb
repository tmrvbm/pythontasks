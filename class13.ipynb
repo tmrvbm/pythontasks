{
 "cells": [
  {
   "cell_type": "code",
   "execution_count": null,
   "metadata": {},
   "outputs": [],
   "source": [
    "'''Homework:\n",
    "1. Age Calculator: Ask the user to enter their birthdate. Calculate and print their age in years, months, and days.\n",
    "2. Days Until Next Birthday: Similar to the first exercise, but this time, calculate and print the number of days remaining until the user's next birthday.\n",
    "3. Meeting Scheduler: Ask the user to enter the current date and time, as well as the duration of a meeting in hours and minutes. Calculate and print the date and time when the meeting will end.\n",
    "4. Timezone Converter: Create a program that allows the user to enter a date and time along with their current timezone, and then convert and print the date and time in another timezone of their choice.\n",
    "5. Countdown Timer: Implement a countdown timer. Ask the user to input a future date and time, and then continuously print the time remaining until that point in regular intervals (e.g., every second).\n",
    "6. Email Validator: Write a program that validates email addresses. Ask the user to input an email address, and check if it follows a valid email format.\n",
    "7. Phone Number Formatter: Create a program that takes a phone number as input and formats it according to a standard format. For example, convert \"1234567890\" to \"(123) 456-7890\".\n",
    "8. Password Strength Checker: Implement a password strength checker. Ask the user to input a password and check if it meets certain criteria (e.g., minimum length, contains at least one uppercase letter, one lowercase letter, and one digit).\n",
    "9. Word Finder: Develop a program that finds all occurrences of a specific word in a given text. Ask the user to input a word, and then search for and print all occurrences of that word in a sample text.\n",
    "10. Date Extractor: Write a program that extracts dates from a given text. Ask the user to input a text, and then identify and print all the dates present in the text '''"
   ]
  },
  {
   "cell_type": "code",
   "execution_count": 3,
   "metadata": {},
   "outputs": [
    {
     "name": "stdout",
     "output_type": "stream",
     "text": [
      "Sizning yoshingiz: 18 yil, 8 oy, 14 kun.\n"
     ]
    }
   ],
   "source": [
    "from datetime import date\n",
    "\n",
    "def calculate_age():\n",
    "    birth_date = input(\"Tug‘ilgan sanangizni kiriting (YYYY-MM-DD): \")\n",
    "    birth_date = date.fromisoformat(birth_date)\n",
    "    today = date.today()\n",
    "\n",
    "    years = today.year - birth_date.year\n",
    "    months = today.month - birth_date.month\n",
    "    days = today.day - birth_date.day\n",
    "\n",
    "    if days < 0:\n",
    "        months -= 1\n",
    "        days += (date(today.year, today.month, 1) - date(today.year, today.month - 1, 1)).days\n",
    "\n",
    "    if months < 0:\n",
    "        years -= 1\n",
    "        months += 12\n",
    "\n",
    "    print(f\"Sizning yoshingiz: {years} yil, {months} oy, {days} kun.\")\n",
    "\n",
    "calculate_age()\n",
    "\n"
   ]
  },
  {
   "cell_type": "code",
   "execution_count": 4,
   "metadata": {},
   "outputs": [
    {
     "name": "stdout",
     "output_type": "stream",
     "text": [
      "Keyingi tug‘ilgan kuningizgacha 106 kun qoldi.\n"
     ]
    }
   ],
   "source": [
    "from datetime import date, timedelta\n",
    "\n",
    "def days_until_birthday():\n",
    "    birth_date = input(\"Tug‘ilgan sanangizni kiriting (YYYY-MM-DD): \")\n",
    "    birth_date = date.fromisoformat(birth_date)\n",
    "    today = date.today()\n",
    "    \n",
    "    next_birthday = date(today.year, birth_date.month, birth_date.day)\n",
    "    if next_birthday < today:\n",
    "        next_birthday = date(today.year + 1, birth_date.month, birth_date.day)\n",
    "    \n",
    "    days_remaining = (next_birthday - today).days\n",
    "    print(f\"Keyingi tug‘ilgan kuningizgacha {days_remaining} kun qoldi.\")\n",
    "\n",
    "days_until_birthday()\n"
   ]
  },
  {
   "cell_type": "code",
   "execution_count": null,
   "metadata": {},
   "outputs": [],
   "source": [
    "from datetime import datetime, timedelta\n",
    "\n",
    "def meeting_end_time():\n",
    "    start_time = input(\"Hozirgi sanani va vaqtni kiriting (YYYY-MM-DD HH:MM): \")\n",
    "    duration_hours = int(input(\"Uchrashuv davomiyligi (soatlar): \"))\n",
    "    duration_minutes = int(input(\"Uchrashuv davomiyligi (daqiqa): \"))\n",
    "\n",
    "    start_datetime = datetime.strptime(start_time, \"%Y-%m-%d %H:%M\")\n",
    "    end_datetime = start_datetime + timedelta(hours=duration_hours, minutes=duration_minutes)\n",
    "\n",
    "    print(f\"Uchrashuv {end_datetime.strftime('%Y-%m-%d %H:%M')} da tugaydi.\")\n",
    "\n",
    "meeting_end_time()\n"
   ]
  },
  {
   "cell_type": "code",
   "execution_count": null,
   "metadata": {},
   "outputs": [],
   "source": [
    "from datetime import datetime\n",
    "import pytz\n",
    "\n",
    "def timezone_converter():\n",
    "    dt_str = input(\"Sanani va vaqtni kiriting (YYYY-MM-DD HH:MM): \")\n",
    "    from_zone = input(\"Hozirgi vaqt zonasini kiriting (masalan: Asia/Tashkent): \")\n",
    "    to_zone = input(\"\"\"Konvertatsiya qilmoqchi bo‘lgan vaqt zonasi (masalan: UTC): \"\"\")\n",
    "\n",
    "    dt = datetime.strptime(dt_str, \"%Y-%m-%d %H:%M\")\n",
    "    from_tz = pytz.timezone(from_zone)\n",
    "    to_tz = pytz.timezone(to_zone)\n",
    "\n",
    "    localized_dt = from_tz.localize(dt)\n",
    "    converted_dt = localized_dt.astimezone(to_tz)\n",
    "\n",
    "    print(f\"Konvertatsiya qilingan vaqt: {converted_dt.strftime('%Y-%m-%d %H:%M')}\")\n",
    "\n",
    "timezone_converter()\n"
   ]
  },
  {
   "cell_type": "code",
   "execution_count": null,
   "metadata": {},
   "outputs": [],
   "source": [
    "import time\n",
    "from datetime import datetime\n",
    "\n",
    "def countdown_timer():\n",
    "    target_time = input(\"Muddati tugash vaqtini kiriting (YYYY-MM-DD HH:MM:SS): \")\n",
    "    target_datetime = datetime.strptime(target_time, \"%Y-%m-%d %H:%M:%S\")\n",
    "\n",
    "    while True:\n",
    "        now = datetime.now()\n",
    "        remaining = target_datetime - now\n",
    "\n",
    "        if remaining.total_seconds() <= 0:\n",
    "            print(\"Vaqt tugadi!\")\n",
    "            break\n",
    "\n",
    "        print(f\"Qolgan vaqt: {remaining}\")\n",
    "        time.sleep(1)\n",
    "\n",
    "countdown_timer()\n"
   ]
  },
  {
   "cell_type": "code",
   "execution_count": null,
   "metadata": {},
   "outputs": [],
   "source": [
    "import re\n",
    "\n",
    "def validate_email():\n",
    "    email = input(\"Emailni kiriting: \")\n",
    "    pattern = r\"^[a-zA-Z0-9_.+-]+@[a-zA-Z0-9-]+\\.[a-zA-Z0-9-.]+$\"\n",
    "\n",
    "    if re.match(pattern, email):\n",
    "        print(\"\"\"Email manzil to‘g‘ri!\"\"\")\n",
    "    else:\n",
    "        print(\"\"\"Xato! Email noto‘g‘ri formatda.\"\"\")\n",
    "\n",
    "validate_email()\n"
   ]
  },
  {
   "cell_type": "code",
   "execution_count": null,
   "metadata": {},
   "outputs": [],
   "source": [
    "import re\n",
    "\n",
    "def format_phone_number():\n",
    "    phone = input(\"Telefon raqamini kiriting (raqamlar bilan): \")\n",
    "    cleaned = re.sub(r\"\\D\", \"\", phone)\n",
    "\n",
    "    if len(cleaned) == 10:\n",
    "        formatted = f\"({cleaned[:3]}) {cleaned[3:6]}-{cleaned[6:]}\"\n",
    "        print(f\"Formatlangan raqam: {formatted}\")\n",
    "    else:\n",
    "        print(\"Xato! Telefon raqami 10 ta raqamdan iborat bo‘lishi kerak.\")\n",
    "\n",
    "format_phone_number()\n"
   ]
  },
  {
   "cell_type": "code",
   "execution_count": null,
   "metadata": {},
   "outputs": [],
   "source": [
    "import re\n",
    "\n",
    "def check_password_strength():\n",
    "    password = input(\"Parolni kiriting: \")\n",
    "\n",
    "    if len(password) < 8:\n",
    "        print(\"Parol juda qisqa! Kamida 8 ta belgi bo‘lishi kerak.\")\n",
    "    elif not re.search(r\"[A-Z]\", password):\n",
    "        print(\"Parol kamida bitta katta harf bo‘lishi kerak!\")\n",
    "    elif not re.search(r\"[a-z]\", password):\n",
    "        print(\"Parol kamida bitta kichik harf bo‘lishi kerak!\")\n",
    "    elif not re.search(r\"[0-9]\", password):\n",
    "        print(\"Parol kamida bitta raqam bo‘lishi kerak!\")\n",
    "    else:\n",
    "        print(\"Parol kuchli!\")\n",
    "\n",
    "check_password_strength()\n"
   ]
  },
  {
   "cell_type": "code",
   "execution_count": 6,
   "metadata": {},
   "outputs": [
    {
     "name": "stdout",
     "output_type": "stream",
     "text": [
      "name so‘zi matnda 1 marta uchradi.\n"
     ]
    }
   ],
   "source": [
    "def find_word():\n",
    "    text = input(\"Matnni kiriting: \")\n",
    "    word = input(\"Qidirilayotgan so‘zni kiriting: \")\n",
    "\n",
    "    count = text.lower().count(word.lower())\n",
    "    print(f\"{word} so‘zi matnda {count} marta uchradi.\")\n",
    "\n",
    "find_word()\n"
   ]
  },
  {
   "cell_type": "code",
   "execution_count": null,
   "metadata": {},
   "outputs": [],
   "source": [
    "import re\n",
    "\n",
    "def extract_dates():\n",
    "    text = input(\"Matnni kiriting: \")\n",
    "    pattern = r\"\\b\\d{4}-\\d{2}-\\d{2}\\b\"\n",
    "    dates = re.findall(pattern, text)\n",
    "\n",
    "    if dates:\n",
    "        print(\"Topilgan sanalar:\", \", \".join(dates))\n",
    "    else:\n",
    "        print(\"Hech qanday sana topilmadi.\")\n",
    "\n",
    "extract_dates()\n"
   ]
  },
  {
   "cell_type": "code",
   "execution_count": null,
   "metadata": {},
   "outputs": [],
   "source": []
  }
 ],
 "metadata": {
  "kernelspec": {
   "display_name": "Python 3",
   "language": "python",
   "name": "python3"
  },
  "language_info": {
   "codemirror_mode": {
    "name": "ipython",
    "version": 3
   },
   "file_extension": ".py",
   "mimetype": "text/x-python",
   "name": "python",
   "nbconvert_exporter": "python",
   "pygments_lexer": "ipython3",
   "version": "3.12.9"
  }
 },
 "nbformat": 4,
 "nbformat_minor": 2
}
