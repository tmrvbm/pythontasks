{
 "cells": [
  {
   "cell_type": "code",
   "execution_count": 3,
   "metadata": {},
   "outputs": [
    {
     "name": "stdout",
     "output_type": "stream",
     "text": [
      "second\n",
      "first\n",
      "second\n",
      "third\n",
      "('B', 'a', 'h', 'r', 'o', 'm')\n",
      "False\n",
      "('a', 'h', 'r', 'o', 'm')\n"
     ]
    }
   ],
   "source": [
    "#Homework1:\n",
    "\n",
    "\"\"\"1. Create a tuple literal named cardinal_numbers that holds the strings\n",
    "\"first\", \"second\", and \"third\", in that order.\n",
    "2. Using index notation and print(), display the string at index 1 in\n",
    "cardinal_numbers.\n",
    "3. In a single line of code, unpack the values in cardinal_numbers into\n",
    "three new strings named position1, position2, and position3. Then\n",
    "print each value on a separate line.\n",
    "4. Using tuple() and a string literal, create a tuple called my_name that\n",
    "contains the letters of your name.\n",
    "5. Check whether the character \"x\" is in my_name using the in keyword.\n",
    "6. Create a new tuple containing all but the first letter in my_name using\n",
    "slice notation.\"\"\"\n",
    "cardinal_numbers = (\"first\", \"second\", \"third\")\n",
    "\n",
    "print(cardinal_numbers[1])  \n",
    "\n",
    "position1, position2, position3 = cardinal_numbers\n",
    "print(position1)\n",
    "print(position2)\n",
    "print(position3)\n",
    "\n",
    "myname = tuple(\"Bahrom\")  \n",
    "print(myname)\n",
    "print(\"x\" in myname)  \n",
    "\n",
    "newtuple = myname[1:]\n",
    "print(newtuple)\n"
   ]
  },
  {
   "cell_type": "code",
   "execution_count": null,
   "metadata": {},
   "outputs": [],
   "source": [
    "\"\"\"Homework2:\n",
    "\n",
    "1. Create a list named food with two elements, \"rice\" and \"beans\".\n",
    "2. Append the string \"broccoli\" to food using .append().\n",
    "3. Add the strings \"bread\" and \"pizza\" to food using .extend().\n",
    "4. Print the first two items in the food list using print() and slice no tation.\n",
    "5. Print the last item in food using print() and index notation.\n",
    "6. Create a list called breakfast from the string \"eggs, fruit, orange\n",
    "juice\" using the string .split() method.\n",
    "7. Verify that breakfast has three items using len().\n",
    "8. Create a new list called lengths using a list comprehension that con tains the lengths of each string in the breakfast list\"\"\"\n",
    "\n",
    "\n",
    "food = [\"rice\", \"beans\"]\n",
    "\n",
    "food.append(\"broccoli\")\n",
    "\n",
    "food.extend([\"bread\", \"pizza\"])\n",
    "\n",
    "print(food[:2])\n",
    "\n",
    "print(food[-1]) \n",
    "\n",
    "breakfast = \"eggs, fruit, orange juice\".split(\", \")\n",
    "print(breakfast) \n",
    "\n",
    "print(len(breakfast))  \n",
    "\n",
    "lengths = [len(item) for item in breakfast]\n",
    "print(lengths)"
   ]
  },
  {
   "cell_type": "code",
   "execution_count": 5,
   "metadata": {},
   "outputs": [
    {
     "name": "stdout",
     "output_type": "stream",
     "text": [
      "4 2\n"
     ]
    }
   ],
   "source": [
    "\n",
    "\n",
    "\"\"\"Homework3:\n",
    "\n",
    "Given two integer variables: a and b. Swap the values of the variables.\n",
    "\n",
    "a = int(input())\n",
    "b = int(input())\n",
    "\n",
    "# write code here. Don't change given conditions\n",
    "\n",
    "print(a, b)\n",
    "\n",
    "Solve this problem in 3 ways\"\"\"\n",
    "\n",
    "a = int(input())\n",
    "b = int(input())\n",
    "\n",
    "a, b = b, a\n",
    "\n",
    "print(a, b)\n"
   ]
  }
 ],
 "metadata": {
  "kernelspec": {
   "display_name": "Python 3",
   "language": "python",
   "name": "python3"
  },
  "language_info": {
   "codemirror_mode": {
    "name": "ipython",
    "version": 3
   },
   "file_extension": ".py",
   "mimetype": "text/x-python",
   "name": "python",
   "nbconvert_exporter": "python",
   "pygments_lexer": "ipython3",
   "version": "3.11.9"
  }
 },
 "nbformat": 4,
 "nbformat_minor": 2
}
