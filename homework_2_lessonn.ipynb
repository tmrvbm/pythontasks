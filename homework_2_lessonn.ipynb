{
 "cells": [
  {
   "cell_type": "code",
   "execution_count": null,
   "metadata": {},
   "outputs": [],
   "source": [
    "\"\"\"Homework:\n",
    "\n",
    "Given a side of square. Find its perimeter and area.\n",
    "Given diameter of circle. Find its length.\n",
    "Given two numbers a and b. Find their mean.\n",
    "Given two numbers a and b. Find their sum, product and square of each number.\"\"\""
   ]
  },
  {
   "cell_type": "code",
   "execution_count": null,
   "metadata": {},
   "outputs": [],
   "source": [
    "\"\"\"\n",
    "area of triangular\n",
    "\n",
    "a=float(input('the first side of the triangular:'))\n",
    "b=float(input('the second side of the triangular:'))\n",
    "c=float(input('the third side of the triangular:'))\n",
    "p=(a+b+c)/2\n",
    "S=(p(p-a)*(p-b)*(p-c))**0.5\n",
    "print(S)\n",
    "\n",
    "\"\"\""
   ]
  },
  {
   "cell_type": "code",
   "execution_count": 8,
   "metadata": {},
   "outputs": [
    {
     "name": "stdout",
     "output_type": "stream",
     "text": [
      "The perimeter of square: 32,The are of square:64\n"
     ]
    }
   ],
   "source": [
    "\"\"\"\n",
    "Given a side of square. Find its perimeter and area.\n",
    "\n",
    "a=int(input('the side of suare:'))\n",
    "P=a*4\n",
    "S=a**2\n",
    "print(f\"The perimeter of square: {P},The are of square:{S}\" )\n",
    "\n",
    "\"\"\""
   ]
  },
  {
   "cell_type": "code",
   "execution_count": null,
   "metadata": {},
   "outputs": [
    {
     "name": "stdout",
     "output_type": "stream",
     "text": [
      "The length of circle: 31.4159\n"
     ]
    }
   ],
   "source": [
    "\"\"\"\n",
    "Given diameter of circle. Find its length.\n",
    "\n",
    "R=float(input('the radius of circle:'))\n",
    "pi=3.14159\n",
    "C=2*R*pi\n",
    "print(f\"The length of circle: {C}\")\n",
    "\n",
    "\"\"\""
   ]
  },
  {
   "cell_type": "code",
   "execution_count": null,
   "metadata": {},
   "outputs": [
    {
     "name": "stdout",
     "output_type": "stream",
     "text": [
      "mean_of_numbers: 3.0\n"
     ]
    }
   ],
   "source": [
    "\"\"\"\n",
    "Given two numbers a and b. Find their mean.\n",
    "\n",
    "a=float(input('the first number:'))\n",
    "b=float(input('the second number:'))\n",
    "\n",
    "Mean=(a+b)/2\n",
    "print(f\"mean_of_numbers: {Mean}\")\n",
    "\n",
    "\"\"\"\n",
    "\n"
   ]
  },
  {
   "cell_type": "code",
   "execution_count": null,
   "metadata": {},
   "outputs": [
    {
     "name": "stdout",
     "output_type": "stream",
     "text": [
      "sum_of_numbers:8.0,square_of_a:9.0,square_of_b:25.0\n"
     ]
    }
   ],
   "source": [
    "\"\"\"\n",
    "Given two numbers a and b. Find their sum, product and square of each number.\n",
    "\n",
    "a=float(input('the first number:'))\n",
    "b=float(input('the second number:'))\n",
    "\n",
    "sum=a+b\n",
    "square_a=a**2\n",
    "square_b=b**2\n",
    "\n",
    "print(f\"sum_of_numbers:{sum},square_of_a:{square_a},square_of_b:{square_b}\")\n",
    "\n",
    "\"\"\""
   ]
  }
 ],
 "metadata": {
  "kernelspec": {
   "display_name": "Python 3",
   "language": "python",
   "name": "python3"
  },
  "language_info": {
   "codemirror_mode": {
    "name": "ipython",
    "version": 3
   },
   "file_extension": ".py",
   "mimetype": "text/x-python",
   "name": "python",
   "nbconvert_exporter": "python",
   "pygments_lexer": "ipython3",
   "version": "3.11.9"
  }
 },
 "nbformat": 4,
 "nbformat_minor": 2
}
