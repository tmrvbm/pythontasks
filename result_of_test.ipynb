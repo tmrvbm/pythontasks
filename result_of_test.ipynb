{
 "cells": [
  {
   "cell_type": "code",
   "execution_count": null,
   "metadata": {},
   "outputs": [],
   "source": [
    "Question 1: Reverse String\n",
    "Write a Python program that prompts the user to enter a string and then prints the reversed version of that string. For example, if the user enters \"Hello, World!\", the program should output \"!dlroW ,olleH\". Ensure that your program handles the user's \n",
    "Question 2: Missing Number\n",
    "You are given a list containing n distinct numbers taken from the range 0 to n. The list has one number missing. Write a Python function to find and return the missing number.\n",
    "For example:\n",
    "missing_number([3, 0, 1])  \n",
    "# Output: [2]\n",
    "\n",
    "missing_number([9, 6, 4, 2, 3, 12, 5, 7, 0, 1])  \n",
    "# Output: [8, 10, 11]\n",
    "Rules:\n",
    "1.\tThe list will contain distinct integers.\n",
    "2.\tThe missing number is guaranteed to be in the range 0 to n.\n",
    "3.\tThe list can be of any length.\n",
    "\n",
    "Question 3: Prime Number Generator\n",
    "Write a Python program that generates prime numbers up to a given.\n",
    "Your program should:\n",
    "1.\tPrompt the user to enter a positive integer as the upper limit.\n",
    "2.\tImplement algorithm to find all prime numbers up to the specified limit.\n",
    "3.\tDisplay the list of prime numbers.\n",
    "For example, if the user enters the limit as 20, the program should output the prime numbers less than or equal to 20: [2, 3, 5, 7, 11, 13, 17, 19].\n"
   ]
  },
  {
   "cell_type": "code",
   "execution_count": 3,
   "metadata": {},
   "outputs": [
    {
     "name": "stdout",
     "output_type": "stream",
     "text": [
      "Reversed_varsion_of_string: ila\n"
     ]
    }
   ],
   "source": [
    "'''Question 1: Reverse String\n",
    "Write a Python program that prompts the user to enter a string and \n",
    "then prints the reversed version of that string. For example, if the user enters \n",
    "\"Hello, World!\", the program should output \"!dlroW ,olleH\". Ensure that your program handles the user's '''\n",
    "\n",
    "string=input(\"write string:\")\n",
    "reversed_version=string[::-1]\n",
    "print(\"Reversed_varsion_of_string:\",reversed_version)\n"
   ]
  },
  {
   "cell_type": "code",
   "execution_count": 9,
   "metadata": {},
   "outputs": [
    {
     "name": "stdout",
     "output_type": "stream",
     "text": [
      "Missing_number: 4\n"
     ]
    }
   ],
   "source": [
    "\"\"\"Question 2: Missing Number\n",
    "You are given a list containing n distinct numbers taken from \n",
    "the range 0 to n. The list has one number missing. Write a Python \n",
    "function to find and return the missing number.\n",
    "For example:\n",
    "missing_number([3, 0, 1])  \n",
    "# Output: [2]\n",
    "\n",
    "missing_number([9, 6, 4, 2, 3, 12, 5, 7, 0, 1])  \n",
    "# Output: [8, 10, 11]\n",
    "Rules:\n",
    "1.\tThe list will contain distinct integers.\n",
    "2.\tThe missing number is guaranteed to be in the range 0 to n.\n",
    "3.\tThe list can be of any length.\"\"\"\n",
    "\n",
    "\n",
    "def find_num (nums):\n",
    "    n=len(nums)\n",
    "    total=range(n+1)    \n",
    "    missing_num=sum(total)-sum(nums)\n",
    "    return missing_num\n",
    "\n",
    "nums=[0,1,2,3,5]  \n",
    "missing_num=find_num(nums)\n",
    "print(\"Missing_number:\",missing_num)"
   ]
  },
  {
   "cell_type": "code",
   "execution_count": null,
   "metadata": {},
   "outputs": [],
   "source": []
  }
 ],
 "metadata": {
  "kernelspec": {
   "display_name": "Python 3",
   "language": "python",
   "name": "python3"
  },
  "language_info": {
   "codemirror_mode": {
    "name": "ipython",
    "version": 3
   },
   "file_extension": ".py",
   "mimetype": "text/x-python",
   "name": "python",
   "nbconvert_exporter": "python",
   "pygments_lexer": "ipython3",
   "version": "3.11.9"
  }
 },
 "nbformat": 4,
 "nbformat_minor": 2
}
